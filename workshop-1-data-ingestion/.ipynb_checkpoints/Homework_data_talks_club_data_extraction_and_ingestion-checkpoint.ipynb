{
 "cells": [
  {
   "cell_type": "markdown",
   "metadata": {
    "id": "mrTFv5nPClXh"
   },
   "source": [
    "# **Homework**: Data talks club data engineering zoomcamp Data loading workshop\n",
    "\n",
    "Hello folks, let's practice what we learned - Loading data with the best practices of data engineering.\n",
    "\n",
    "Here are the exercises we will do\n",
    "\n",
    "\n"
   ]
  },
  {
   "cell_type": "markdown",
   "metadata": {
    "id": "wLF4iXf-NR7t"
   },
   "source": [
    "# 1. Use a generator\n",
    "\n",
    "Remember the concept of generator? Let's practice using them to futher our understanding of how they work.\n",
    "\n",
    "Let's define a generator and then run it as practice.\n",
    "\n",
    "**Answer the following questions:**\n",
    "\n",
    "- **Question 1: What is the sum of the outputs of the generator for limit = 5?**\n",
    "- **Question 2: What is the 13th number yielded**\n",
    "\n",
    "I suggest practicing these questions without GPT as the purpose is to further your learning."
   ]
  },
  {
   "cell_type": "code",
   "execution_count": 1,
   "metadata": {
    "colab": {
     "base_uri": "https://localhost:8080/"
    },
    "id": "wLng-bDJN4jf",
    "outputId": "ec230aa4-7862-4e75-83c2-d61996ed342b"
   },
   "outputs": [
    {
     "name": "stdout",
     "output_type": "stream",
     "text": [
      "1.0\n",
      "1.4142135623730951\n",
      "1.7320508075688772\n",
      "2.0\n",
      "2.23606797749979\n"
     ]
    }
   ],
   "source": [
    "def square_root_generator(limit):\n",
    "    n = 1\n",
    "    while n <= limit:\n",
    "        yield n ** 0.5\n",
    "        n += 1\n",
    "\n",
    "# Example usage:\n",
    "limit = 5\n",
    "generator = square_root_generator(limit)\n",
    "\n",
    "\n",
    "for sqrt_value in generator:\n",
    "    print(sqrt_value)\n",
    "\n",
    "\n"
   ]
  },
  {
   "cell_type": "markdown",
   "metadata": {},
   "source": [
    "#### Answer 1"
   ]
  },
  {
   "cell_type": "code",
   "execution_count": 2,
   "metadata": {},
   "outputs": [
    {
     "name": "stdout",
     "output_type": "stream",
     "text": [
      "8.382332347441762\n"
     ]
    }
   ],
   "source": [
    "def square_root_generator(limit):\n",
    "    n = 1\n",
    "    while n <= limit:\n",
    "        yield n ** 0.5\n",
    "        n += 1\n",
    "\n",
    "# Example usage:\n",
    "limit = 5\n",
    "generator = square_root_generator(limit)\n",
    "\n",
    "sum  = 0\n",
    "for sqrt_value in generator:\n",
    "    sum += sqrt_value\n",
    "\n",
    "print(sum)"
   ]
  },
  {
   "cell_type": "markdown",
   "metadata": {},
   "source": [
    "#### Answer 2"
   ]
  },
  {
   "cell_type": "code",
   "execution_count": 3,
   "metadata": {
    "colab": {
     "base_uri": "https://localhost:8080/"
    },
    "id": "rtiyae9nHS0V",
    "outputId": "80236484-7ee2-4194-e59f-db2c335a542b"
   },
   "outputs": [
    {
     "name": "stdout",
     "output_type": "stream",
     "text": [
      "[1] : 1.0\n",
      "[2] : 1.4142135623730951\n",
      "[3] : 1.7320508075688772\n",
      "[4] : 2.0\n",
      "[5] : 2.23606797749979\n",
      "[6] : 2.449489742783178\n",
      "[7] : 2.6457513110645907\n",
      "[8] : 2.8284271247461903\n",
      "[9] : 3.0\n",
      "[10] : 3.1622776601683795\n",
      "[11] : 3.3166247903554\n",
      "[12] : 3.4641016151377544\n",
      "[13] : 3.605551275463989\n"
     ]
    }
   ],
   "source": [
    "def square_root_generator(limit):\n",
    "    n = 1\n",
    "    while n <= limit:\n",
    "        yield n ** 0.5\n",
    "        n += 1\n",
    "\n",
    "# Example usage:\n",
    "limit = 13\n",
    "generator = square_root_generator(limit)\n",
    "\n",
    "i = 1\n",
    "for sqrt_value in generator:\n",
    "    print(f\"[{i}] :\",  sqrt_value)\n",
    "    i += 1\n"
   ]
  },
  {
   "cell_type": "markdown",
   "metadata": {
    "id": "vjWhILzGJMpK"
   },
   "source": [
    "# 2. Append a generator to a table with existing data\n",
    "\n",
    "\n",
    "Below you have 2 generators. You will be tasked to load them to duckdb and answer some questions from the data\n",
    "\n",
    "1. Load the first generator and calculate the sum of ages of all people. Make sure to only load it once.\n",
    "2. Append the second generator to the same table as the first.\n",
    "3. **After correctly appending the data, calculate the sum of all ages of people.**\n",
    "\n",
    "\n"
   ]
  },
  {
   "cell_type": "code",
   "execution_count": 4,
   "metadata": {
    "colab": {
     "base_uri": "https://localhost:8080/"
    },
    "id": "2MoaQcdLBEk6",
    "outputId": "d2b93dc1-d83f-44ea-aeff-fdf51d75f7aa"
   },
   "outputs": [
    {
     "name": "stdout",
     "output_type": "stream",
     "text": [
      "{'ID': 1, 'Name': 'Person_1', 'Age': 26, 'City': 'City_A'}\n",
      "{'ID': 2, 'Name': 'Person_2', 'Age': 27, 'City': 'City_A'}\n",
      "{'ID': 3, 'Name': 'Person_3', 'Age': 28, 'City': 'City_A'}\n",
      "{'ID': 4, 'Name': 'Person_4', 'Age': 29, 'City': 'City_A'}\n",
      "{'ID': 5, 'Name': 'Person_5', 'Age': 30, 'City': 'City_A'}\n",
      "{'ID': 3, 'Name': 'Person_3', 'Age': 33, 'City': 'City_B', 'Occupation': 'Job_3'}\n",
      "{'ID': 4, 'Name': 'Person_4', 'Age': 34, 'City': 'City_B', 'Occupation': 'Job_4'}\n",
      "{'ID': 5, 'Name': 'Person_5', 'Age': 35, 'City': 'City_B', 'Occupation': 'Job_5'}\n",
      "{'ID': 6, 'Name': 'Person_6', 'Age': 36, 'City': 'City_B', 'Occupation': 'Job_6'}\n",
      "{'ID': 7, 'Name': 'Person_7', 'Age': 37, 'City': 'City_B', 'Occupation': 'Job_7'}\n",
      "{'ID': 8, 'Name': 'Person_8', 'Age': 38, 'City': 'City_B', 'Occupation': 'Job_8'}\n"
     ]
    }
   ],
   "source": [
    "def people_1():\n",
    "    for i in range(1, 6):\n",
    "        yield {\"ID\": i, \"Name\": f\"Person_{i}\", \"Age\": 25 + i, \"City\": \"City_A\"}\n",
    "\n",
    "for person in people_1():\n",
    "    print(person)\n",
    "\n",
    "\n",
    "def people_2():\n",
    "    for i in range(3, 9):\n",
    "        yield {\"ID\": i, \"Name\": f\"Person_{i}\", \"Age\": 30 + i, \"City\": \"City_B\", \"Occupation\": f\"Job_{i}\"}\n",
    "\n",
    "\n",
    "for person in people_2():\n",
    "    print(person)\n"
   ]
  },
  {
   "cell_type": "code",
   "execution_count": 5,
   "metadata": {
    "id": "ywoa4TO5Kfon"
   },
   "outputs": [],
   "source": [
    "import dlt\n",
    "import duckdb"
   ]
  },
  {
   "cell_type": "code",
   "execution_count": 30,
   "metadata": {
    "colab": {
     "base_uri": "https://localhost:8080/",
     "height": 813
    },
    "id": "qkX5tBhDKRIF",
    "outputId": "aafe53a3-e77b-4578-8530-6cfa0d57503c"
   },
   "outputs": [
    {
     "data": {
      "text/plain": [
       "┌─────────────────────┐\n",
       "│        name         │\n",
       "│       varchar       │\n",
       "├─────────────────────┤\n",
       "│ _dlt_loads          │\n",
       "│ _dlt_pipeline_state │\n",
       "│ _dlt_version        │\n",
       "│ people_append_table │\n",
       "└─────────────────────┘"
      ]
     },
     "execution_count": 30,
     "metadata": {},
     "output_type": "execute_result"
    }
   ],
   "source": [
    "def people_1():\n",
    "    for i in range(1, 6):\n",
    "        yield {\"ID\": i, \"Name\": f\"Person_{i}\", \"Age\": 25 + i, \"City\": \"City_A\"}\n",
    "\n",
    "\n",
    "# create a pipeline \n",
    "pipeline = dlt.pipeline(\n",
    "                pipeline_name = \"task_1\",\n",
    "                destination = \"duckdb\",\n",
    "                dataset_name = \"people\"\n",
    ")\n",
    "\n",
    "info = pipeline.run(\n",
    "                people_1(),\n",
    "                table_name = \"people_append_table\",\n",
    "                write_disposition=\"replace\"\n",
    ")\n",
    "\n",
    "# connect to duckdb\n",
    "conn = duckdb.connect(f\"{pipeline.pipeline_name}.duckdb\")\n",
    "\n",
    "conn.sql(f\"set search_path = {pipeline.dataset_name}\")\n",
    "conn.sql(\"show tables\")"
   ]
  },
  {
   "cell_type": "code",
   "execution_count": 10,
   "metadata": {},
   "outputs": [
    {
     "data": {
      "text/plain": [
       "┌───────┬──────────┬───────┬─────────┬────────────────────┬────────────────┐\n",
       "│  id   │   name   │  age  │  city   │    _dlt_load_id    │    _dlt_id     │\n",
       "│ int64 │ varchar  │ int64 │ varchar │      varchar       │    varchar     │\n",
       "├───────┼──────────┼───────┼─────────┼────────────────────┼────────────────┤\n",
       "│     1 │ Person_1 │    26 │ City_A  │ 1708407604.5729809 │ LvzKv8ND4758fg │\n",
       "│     2 │ Person_2 │    27 │ City_A  │ 1708407604.5729809 │ R5yfPZdBOk9QYg │\n",
       "│     3 │ Person_3 │    28 │ City_A  │ 1708407604.5729809 │ JzQUlsqBIF6NOQ │\n",
       "│     4 │ Person_4 │    29 │ City_A  │ 1708407604.5729809 │ ujk5n/zK43WTiA │\n",
       "│     5 │ Person_5 │    30 │ City_A  │ 1708407604.5729809 │ eg1lxaSUeZrw9Q │\n",
       "└───────┴──────────┴───────┴─────────┴────────────────────┴────────────────┘"
      ]
     },
     "execution_count": 10,
     "metadata": {},
     "output_type": "execute_result"
    }
   ],
   "source": [
    "conn.sql(\"select * from people_append_table\")"
   ]
  },
  {
   "cell_type": "code",
   "execution_count": 11,
   "metadata": {},
   "outputs": [
    {
     "data": {
      "text/plain": [
       "┌──────────┐\n",
       "│ sum(age) │\n",
       "│  int128  │\n",
       "├──────────┤\n",
       "│      140 │\n",
       "└──────────┘"
      ]
     },
     "execution_count": 11,
     "metadata": {},
     "output_type": "execute_result"
    }
   ],
   "source": [
    "conn.sql(\"select sum(age) from people_append_table\")"
   ]
  },
  {
   "cell_type": "code",
   "execution_count": 31,
   "metadata": {},
   "outputs": [
    {
     "data": {
      "text/plain": [
       "┌───────┬──────────┬───────┬─────────┬────────────────────┬────────────────┬────────────┐\n",
       "│  id   │   name   │  age  │  city   │    _dlt_load_id    │    _dlt_id     │ occupation │\n",
       "│ int64 │ varchar  │ int64 │ varchar │      varchar       │    varchar     │  varchar   │\n",
       "├───────┼──────────┼───────┼─────────┼────────────────────┼────────────────┼────────────┤\n",
       "│     1 │ Person_1 │    26 │ City_A  │ 1708407831.3682392 │ 11z73UzexejRZw │ NULL       │\n",
       "│     2 │ Person_2 │    27 │ City_A  │ 1708407831.3682392 │ 3cJ2hXCjC52clw │ NULL       │\n",
       "│     3 │ Person_3 │    28 │ City_A  │ 1708407831.3682392 │ DfrT7eDR/+murA │ NULL       │\n",
       "│     4 │ Person_4 │    29 │ City_A  │ 1708407831.3682392 │ +ir1nUm0xjyubA │ NULL       │\n",
       "│     5 │ Person_5 │    30 │ City_A  │ 1708407831.3682392 │ vCmSljhlGWlQPw │ NULL       │\n",
       "│     3 │ Person_3 │    33 │ City_B  │ 1708407838.764147  │ qXAhAZsseJ5Ptw │ Job_3      │\n",
       "│     4 │ Person_4 │    34 │ City_B  │ 1708407838.764147  │ xsX1mabjth9T0w │ Job_4      │\n",
       "│     5 │ Person_5 │    35 │ City_B  │ 1708407838.764147  │ jsahPpkvACl+8g │ Job_5      │\n",
       "│     6 │ Person_6 │    36 │ City_B  │ 1708407838.764147  │ PXsO0/3BuPXLiw │ Job_6      │\n",
       "│     7 │ Person_7 │    37 │ City_B  │ 1708407838.764147  │ GMd45ZOBdyDL2g │ Job_7      │\n",
       "│     8 │ Person_8 │    38 │ City_B  │ 1708407838.764147  │ tbr4evMEDI8PuA │ Job_8      │\n",
       "├───────┴──────────┴───────┴─────────┴────────────────────┴────────────────┴────────────┤\n",
       "│ 11 rows                                                                     7 columns │\n",
       "└───────────────────────────────────────────────────────────────────────────────────────┘"
      ]
     },
     "execution_count": 31,
     "metadata": {},
     "output_type": "execute_result"
    }
   ],
   "source": [
    "def people_2():\n",
    "    for i in range(3, 9):\n",
    "        yield {\"ID\": i, \"Name\": f\"Person_{i}\", \"Age\": 30 + i, \"City\": \"City_B\", \"Occupation\": f\"Job_{i}\"}\n",
    "        \n",
    "        \n",
    "info = pipeline.run(people_2(),\n",
    "            table_name = \"people_append_table\",\n",
    "            write_disposition = \"append\")\n",
    "\n",
    "conn.sql(\"select * from people_append_table\")"
   ]
  },
  {
   "cell_type": "code",
   "execution_count": 32,
   "metadata": {},
   "outputs": [
    {
     "data": {
      "text/plain": [
       "┌──────────┐\n",
       "│ sum(age) │\n",
       "│  int128  │\n",
       "├──────────┤\n",
       "│      353 │\n",
       "└──────────┘"
      ]
     },
     "execution_count": 32,
     "metadata": {},
     "output_type": "execute_result"
    }
   ],
   "source": [
    "conn.sql(\"select sum(age) from people_append_table\")"
   ]
  },
  {
   "cell_type": "markdown",
   "metadata": {
    "id": "pY4cFAWOSwN1"
   },
   "source": [
    "# 3. Merge a generator\n",
    "\n",
    "Re-use the generators from Exercise 2.\n",
    "\n",
    "A table's primary key needs to be created from the start, so load your data to a new table with primary key ID.\n",
    "\n",
    "Load your first generator first, and then load the second one with merge. Since they have overlapping IDs, some of the records from the first load should be replaced by the ones from the second load.\n",
    "\n",
    "After loading, you should have a total of 8 records, and ID 3 should have age 33.\n",
    "\n",
    "Question: **Calculate the sum of ages of all the people loaded as described above.**\n"
   ]
  },
  {
   "cell_type": "code",
   "execution_count": 34,
   "metadata": {
    "colab": {
     "base_uri": "https://localhost:8080/",
     "height": 652
    },
    "id": "Zry3k91xe1y3",
    "outputId": "778f2590-3fe6-4e64-95ef-e2b91fb6cba2"
   },
   "outputs": [
    {
     "data": {
      "text/plain": [
       "┌───────┬──────────┬───────┬─────────┬────────────────────┬────────────────┬────────────┐\n",
       "│  id   │   name   │  age  │  city   │    _dlt_load_id    │    _dlt_id     │ occupation │\n",
       "│ int64 │ varchar  │ int64 │ varchar │      varchar       │    varchar     │  varchar   │\n",
       "├───────┼──────────┼───────┼─────────┼────────────────────┼────────────────┼────────────┤\n",
       "│     1 │ Person_1 │    26 │ City_A  │ 1708407872.9887831 │ wTTUN875b6RWyg │ NULL       │\n",
       "│     2 │ Person_2 │    27 │ City_A  │ 1708407872.9887831 │ I6W0LzC9rE6GXg │ NULL       │\n",
       "│     8 │ Person_8 │    38 │ City_B  │ 1708407873.564397  │ Xf/AT0m+8yWo4g │ Job_8      │\n",
       "│     3 │ Person_3 │    33 │ City_B  │ 1708407873.564397  │ l2BWYH5zp+qUGQ │ Job_3      │\n",
       "│     6 │ Person_6 │    36 │ City_B  │ 1708407873.564397  │ qP0AVfI6JOLYkg │ Job_6      │\n",
       "│     7 │ Person_7 │    37 │ City_B  │ 1708407873.564397  │ 2OZpGRB3o+sVRQ │ Job_7      │\n",
       "│     5 │ Person_5 │    35 │ City_B  │ 1708407873.564397  │ mcPljaoD0H+YmQ │ Job_5      │\n",
       "│     4 │ Person_4 │    34 │ City_B  │ 1708407873.564397  │ L/azKy/U4Tvs6Q │ Job_4      │\n",
       "└───────┴──────────┴───────┴─────────┴────────────────────┴────────────────┴────────────┘"
      ]
     },
     "execution_count": 34,
     "metadata": {},
     "output_type": "execute_result"
    }
   ],
   "source": [
    "# create a pipeline\n",
    "pipeline = dlt.pipeline(\n",
    "            pipeline_name = \"task_2\",\n",
    "            dataset_name = \"people\",\n",
    "            destination = \"duckdb\"\n",
    ")\n",
    "\n",
    "info_1 = pipeline.run(\n",
    "            people_1(),\n",
    "            table_name = \"people_merge_table\",\n",
    "            write_disposition = \"replace\",\n",
    "            primary_key = \"id\"\n",
    ")\n",
    "\n",
    "# connect to duckdb\n",
    "conn = duckdb.connect(f\"{pipeline.pipeline_name}.duckdb\")\n",
    "\n",
    "info_2 = pipeline.run(\n",
    "            people_2(),\n",
    "            table_name = \"people_merge_table\",\n",
    "            write_disposition = \"merge\",\n",
    "            primary_key = \"id\"\n",
    ")\n",
    "\n",
    "\n",
    "conn.sql(\"select * from people.people_merge_table\")"
   ]
  },
  {
   "cell_type": "code",
   "execution_count": 35,
   "metadata": {},
   "outputs": [
    {
     "data": {
      "text/plain": [
       "┌──────────┐\n",
       "│ sum(age) │\n",
       "│  int128  │\n",
       "├──────────┤\n",
       "│      266 │\n",
       "└──────────┘"
      ]
     },
     "execution_count": 35,
     "metadata": {},
     "output_type": "execute_result"
    }
   ],
   "source": [
    "conn.sql(\"select sum(age) from people.people_merge_table\")"
   ]
  },
  {
   "cell_type": "code",
   "execution_count": 36,
   "metadata": {},
   "outputs": [
    {
     "data": {
      "text/plain": [
       "┌─────────────────────┐\n",
       "│        name         │\n",
       "│       varchar       │\n",
       "├─────────────────────┤\n",
       "│ _dlt_loads          │\n",
       "│ _dlt_pipeline_state │\n",
       "│ _dlt_version        │\n",
       "│ people_append_table │\n",
       "│ people_merge_table  │\n",
       "└─────────────────────┘"
      ]
     },
     "execution_count": 36,
     "metadata": {},
     "output_type": "execute_result"
    }
   ],
   "source": [
    "conn.sql(f\"set search_path = '{pipeline.dataset_name}'\")\n",
    "conn.sql(\"show tables\")"
   ]
  },
  {
   "cell_type": "markdown",
   "metadata": {
    "id": "kKB2GTB9oVjr"
   },
   "source": [
    "# Solution: First make sure that the following modules are installed:"
   ]
  },
  {
   "cell_type": "code",
   "execution_count": null,
   "metadata": {
    "id": "xTVvtyqrfVNq"
   },
   "outputs": [],
   "source": [
    "#Install the dependencies\n",
    "%%capture\n",
    "!pip install dlt[duckdb]"
   ]
  },
  {
   "cell_type": "code",
   "execution_count": null,
   "metadata": {
    "id": "a2-PRBAkGC2K"
   },
   "outputs": [],
   "source": [
    "# to do: homework :)"
   ]
  },
  {
   "cell_type": "markdown",
   "metadata": {
    "id": "PoTJu4kbGG0z"
   },
   "source": [
    "Questions? difficulties? We are here to help.\n",
    "- DTC data engineering course channel: https://datatalks-club.slack.com/archives/C01FABYF2RG\n",
    "- dlt's DTC cohort channel: https://dlthub-community.slack.com/archives/C06GAEX2VNX"
   ]
  }
 ],
 "metadata": {
  "colab": {
   "provenance": []
  },
  "kernelspec": {
   "display_name": "Python 3 (ipykernel)",
   "language": "python",
   "name": "python3"
  },
  "language_info": {
   "codemirror_mode": {
    "name": "ipython",
    "version": 3
   },
   "file_extension": ".py",
   "mimetype": "text/x-python",
   "name": "python",
   "nbconvert_exporter": "python",
   "pygments_lexer": "ipython3",
   "version": "3.11.5"
  }
 },
 "nbformat": 4,
 "nbformat_minor": 1
}
